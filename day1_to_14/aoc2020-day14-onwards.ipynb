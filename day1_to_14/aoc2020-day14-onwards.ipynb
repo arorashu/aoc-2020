{
 "cells": [
  {
   "cell_type": "markdown",
   "metadata": {},
   "source": [
    "## day 14"
   ]
  },
  {
   "cell_type": "code",
   "execution_count": 21,
   "metadata": {},
   "outputs": [],
   "source": [
    "inp14_file = \"p14-input.txt\"\n",
    "\n",
    "mem = {}\n",
    "\n",
    "with open(inp14_file) as f:\n",
    "    while(True):\n",
    "        l = f.readline().strip('\\n')\n",
    "        if l is None or l=='':\n",
    "            break\n",
    "        x = l.split(' = ')\n",
    "        if x[0] == 'mask':\n",
    "            mask = x[1]\n",
    "        else:\n",
    "            locn = int(x[0][4:-1])\n",
    "            val = int(x[1])\n",
    "#             print(locn, val)\n",
    "            for i in range(len(mask)):\n",
    "                if mask[i] == '0':\n",
    "                    val = val & ~(1<<(35-i))\n",
    "                elif mask[i] == '1':\n",
    "                    val = val | (1<<(35-i))\n",
    "            mem[locn] = val\n",
    "    \n",
    "\n",
    "# print(mem)"
   ]
  },
  {
   "cell_type": "code",
   "execution_count": 22,
   "metadata": {},
   "outputs": [
    {
     "name": "stdout",
     "output_type": "stream",
     "text": [
      "11501064782628\n"
     ]
    }
   ],
   "source": [
    "sum = 0\n",
    "for _,value in mem.items():\n",
    "    sum += value\n",
    "print(sum)\n",
    "#high: 16194185167589\n",
    "# ans: 11501064782628"
   ]
  },
  {
   "cell_type": "markdown",
   "metadata": {},
   "source": [
    "### part 2"
   ]
  },
  {
   "cell_type": "code",
   "execution_count": 26,
   "metadata": {},
   "outputs": [
    {
     "name": "stdout",
     "output_type": "stream",
     "text": [
      "[27, 26, 25, 24, 19, 18, 17, 16]\n"
     ]
    }
   ],
   "source": [
    "def gen_all_locations(addr, mask):\n",
    "    locs = []\n",
    "    next_locs = []\n",
    "    locs.append('')\n",
    "#     print(locs, mask, len(mask), len(locs))\n",
    "    for i in range(len(mask)):\n",
    "        for loc in locs:\n",
    "#             print(f'loc: {loc}')\n",
    "            if mask[i] == '1':\n",
    "#                 print(f'1 at {i}')\n",
    "                loc+=\"1\"\n",
    "                next_locs.append(loc)\n",
    "            elif mask[i] == 'X':\n",
    "                new_loc = str(loc)\n",
    "                loc += '0'\n",
    "                new_loc += '1'\n",
    "                next_locs.append(new_loc)\n",
    "                next_locs.append(loc)\n",
    "            else:\n",
    "                if (addr>>(35-i)) & 1 == 1:\n",
    "                    loc += '1'\n",
    "                else:\n",
    "                    loc += '0'\n",
    "                next_locs.append(loc)\n",
    "        locs = next_locs\n",
    "        next_locs = []\n",
    "    all_addr = []\n",
    "    for loc in locs:\n",
    "        all_addr.append(int(loc, 2))\n",
    "    return all_addr\n",
    "\n",
    "t_mask = \"00000000000000000000000000000000X0XX\"\n",
    "t_val = 26\n",
    "t_all_loc = gen_all_locations(t_val, t_mask)\n",
    "print(t_all_loc)\n",
    "\n"
   ]
  },
  {
   "cell_type": "code",
   "execution_count": 27,
   "metadata": {},
   "outputs": [],
   "source": [
    "mem2 = {}\n",
    "with open(inp14_file) as f:\n",
    "    while(True):\n",
    "        l = f.readline().strip('\\n')\n",
    "        if l is None or l=='':\n",
    "            break\n",
    "        x = l.split(' = ')\n",
    "        if x[0] == 'mask':\n",
    "            mask = x[1]\n",
    "        else:\n",
    "            locn = int(x[0][4:-1])\n",
    "            val = int(x[1])\n",
    "            all_locns = gen_all_locations(locn, mask)\n",
    "            for loc in all_locns:\n",
    "                mem2[loc] = val"
   ]
  },
  {
   "cell_type": "code",
   "execution_count": 29,
   "metadata": {},
   "outputs": [
    {
     "name": "stdout",
     "output_type": "stream",
     "text": [
      "5142195937660\n"
     ]
    }
   ],
   "source": [
    "sum = 0\n",
    "for _,val in mem2.items():\n",
    "    sum += val\n",
    "print(sum)\n",
    "\n",
    "#low: 21773119295\n",
    "#ans: 5142195937660"
   ]
  },
  {
   "cell_type": "code",
   "execution_count": null,
   "metadata": {},
   "outputs": [],
   "source": []
  }
 ],
 "metadata": {
  "kernelspec": {
   "display_name": "Python 3",
   "language": "python",
   "name": "python3"
  },
  "language_info": {
   "codemirror_mode": {
    "name": "ipython",
    "version": 3
   },
   "file_extension": ".py",
   "mimetype": "text/x-python",
   "name": "python",
   "nbconvert_exporter": "python",
   "pygments_lexer": "ipython3",
   "version": "3.8.3"
  }
 },
 "nbformat": 4,
 "nbformat_minor": 4
}
