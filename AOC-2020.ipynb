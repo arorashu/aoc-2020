{
 "cells": [
  {
   "cell_type": "markdown",
   "metadata": {},
   "source": [
    "# Advent of code 2020"
   ]
  },
  {
   "cell_type": "markdown",
   "metadata": {},
   "source": [
    "## Problem 1 part 1"
   ]
  },
  {
   "cell_type": "code",
   "execution_count": 43,
   "metadata": {},
   "outputs": [],
   "source": [
    "# load data from input file\n",
    "inp_file = \"p1-input.txt\"\n",
    "arr = []\n",
    "with open(inp_file) as f:\n",
    "    for line in f:\n",
    "        arr.append(int(line.strip('\\n')))\n",
    "# print(arr)"
   ]
  },
  {
   "cell_type": "code",
   "execution_count": 9,
   "metadata": {},
   "outputs": [
    {
     "name": "stdout",
     "output_type": "stream",
     "text": [
      "arr[i]: 1486, arr[j]: 534,ans: 793524\n"
     ]
    }
   ],
   "source": [
    "for i in range(len(arr)):\n",
    "    for j in range(i+1, len(arr)):\n",
    "        if arr[i]+arr[j]==2020 :\n",
    "            print(f'arr[i]: {arr[i]}, arr[j]: {arr[j]},'\n",
    "                  f'ans: {arr[i] * arr[j]}')"
   ]
  },
  {
   "cell_type": "markdown",
   "metadata": {},
   "source": [
    "## Part 2"
   ]
  },
  {
   "cell_type": "code",
   "execution_count": 11,
   "metadata": {},
   "outputs": [
    {
     "name": "stdout",
     "output_type": "stream",
     "text": [
      "x: 686, y: 71, z: 1263, ans: 61515678\n"
     ]
    }
   ],
   "source": [
    "for i in range(len(arr)):\n",
    "    for j in range(i+1, len(arr)):\n",
    "        for k in range(j+1, len(arr)):\n",
    "            if arr[i]+arr[j]+arr[k]==2020 :\n",
    "                print(f'x: {arr[i]}, y: {arr[j]}, z: {arr[k]}'\n",
    "                      f', ans: {arr[i] * arr[j] * arr[k]}')"
   ]
  },
  {
   "cell_type": "markdown",
   "metadata": {},
   "source": [
    "## Problem-2 part 1"
   ]
  },
  {
   "cell_type": "code",
   "execution_count": 21,
   "metadata": {},
   "outputs": [
    {
     "name": "stdout",
     "output_type": "stream",
     "text": [
      "383\n"
     ]
    }
   ],
   "source": [
    "# load data from input file\n",
    "inp2_file = \"p2-input.txt\"\n",
    "\n",
    "total = 0\n",
    "\n",
    "with open(inp2_file) as f:\n",
    "    for line in f:\n",
    "        min_occ, max_occ = line.split(':')[0].split(' ')[0].split('-')\n",
    "#         print(min_occ, max_occ)\n",
    "        the_char = line.split(':')[0].split(' ')[1]\n",
    "#         print(the_char)\n",
    "        cur_pass = line.split(':')[1].strip()\n",
    "#         print(cur_pass)\n",
    "        count = cur_pass.count(the_char)\n",
    "        if count >= int(min_occ) and count <= int(max_occ):\n",
    "            total += 1\n",
    "\n",
    "print(total)        "
   ]
  },
  {
   "cell_type": "markdown",
   "metadata": {},
   "source": [
    "### part 2"
   ]
  },
  {
   "cell_type": "code",
   "execution_count": 26,
   "metadata": {},
   "outputs": [
    {
     "name": "stdout",
     "output_type": "stream",
     "text": [
      "272\n"
     ]
    }
   ],
   "source": [
    "total = 0\n",
    "\n",
    "with open(inp2_file) as f:\n",
    "    for line in f:\n",
    "        pos1, pos2 = line.split(':')[0].split(' ')[0].split('-')\n",
    "        pos1, pos2 = int(pos1)-1, int(pos2)-1\n",
    "        the_char = line.split(':')[0].split(' ')[1]\n",
    "        cur_pass = line.split(':')[1].strip()\n",
    "        \n",
    "        count = 0\n",
    "        \n",
    "        if pos1 < len(cur_pass) and cur_pass[pos1] == the_char:\n",
    "            count += 1\n",
    "            \n",
    "        if pos2 < len(cur_pass) and cur_pass[pos2] == the_char:\n",
    "            count += 1\n",
    "        \n",
    "        if count == 1:\n",
    "            total +=1\n",
    "#             print(line)\n",
    "\n",
    "print(total)     "
   ]
  },
  {
   "cell_type": "markdown",
   "metadata": {},
   "source": [
    "## Problem-3 part 1"
   ]
  },
  {
   "cell_type": "code",
   "execution_count": 38,
   "metadata": {},
   "outputs": [
    {
     "name": "stdout",
     "output_type": "stream",
     "text": [
      "220\n"
     ]
    }
   ],
   "source": [
    "# load data from input file\n",
    "inp3_file = \"p3-input.txt\"\n",
    "\n",
    "total = 0\n",
    "next_y = 0\n",
    "\n",
    "with open(inp3_file) as f:\n",
    "    for line in f:\n",
    "        l = line.strip('\\n')\n",
    "        square = l[next_y % len(l)]\n",
    "        if square == '#':\n",
    "            total += 1\n",
    "        next_y += 3\n",
    "print(total)     "
   ]
  },
  {
   "cell_type": "markdown",
   "metadata": {},
   "source": [
    "### part 2"
   ]
  },
  {
   "cell_type": "code",
   "execution_count": 41,
   "metadata": {},
   "outputs": [
    {
     "name": "stdout",
     "output_type": "stream",
     "text": [
      "[70, 220, 63, 76, 29]\n"
     ]
    }
   ],
   "source": [
    "total = [0, 0, 0, 0, 0]\n",
    "next_y = [0, 0, 0, 0, 0]\n",
    "next_x = [0, 0, 0, 0, 0]\n",
    "y_inc = [1, 3, 5, 7, 1]\n",
    "x_inc = [1, 1, 1, 1, 2]\n",
    "prod = 1\n",
    "line_id = 0\n",
    "\n",
    "with open(inp3_file) as f:\n",
    "    for line in f:\n",
    "        l = line.strip('\\n')\n",
    "        for i in range(len(next_x)):\n",
    "            square = l[next_y[i] % len(l)]\n",
    "#             print(f'square: {square}, i\" {line_id}, {next_x[i]}, {next_y[i]}')\n",
    "            if line_id==next_x[i]:\n",
    "                if square == '#':\n",
    "                    total[i] += 1\n",
    "                next_x[i] += x_inc[i]\n",
    "                next_y[i] += y_inc[i]\n",
    "        line_id += 1\n",
    "\n",
    "print(total)     "
   ]
  },
  {
   "cell_type": "code",
   "execution_count": 42,
   "metadata": {},
   "outputs": [
    {
     "name": "stdout",
     "output_type": "stream",
     "text": [
      "2138320800\n"
     ]
    }
   ],
   "source": [
    "for sum in total:\n",
    "    prod *= sum\n",
    "print(prod)"
   ]
  },
  {
   "cell_type": "markdown",
   "metadata": {},
   "source": [
    "## Problem-4 part 1"
   ]
  },
  {
   "cell_type": "code",
   "execution_count": 61,
   "metadata": {},
   "outputs": [
    {
     "name": "stdout",
     "output_type": "stream",
     "text": [
      "237\n",
      "all passports: 289\n"
     ]
    }
   ],
   "source": [
    "# load data from input file\n",
    "inp4_file = \"p4-input.txt\"\n",
    "total = 0\n",
    "all_passport = 0\n",
    "this_passport = {}\n",
    "reqd_fields = set(('byr','iyr','eyr','hgt','hcl', 'ecl', 'pid'))\n",
    "# print(reqd_fields)\n",
    "\n",
    "with open(inp4_file) as f:\n",
    "    for line in f:\n",
    "        l = line.strip('\\n')\n",
    "        if len(l) == 0:\n",
    "            if this_passport:\n",
    "                all_passport += 1\n",
    "                f_count = 0\n",
    "                for field in reqd_fields:\n",
    "                    if field in this_passport:\n",
    "                        f_count += 1\n",
    "                if f_count == 7:\n",
    "#                     print(this_passport)\n",
    "                    total += 1\n",
    "            else:\n",
    "                print(\"not passport\")\n",
    "                print(this_passport)\n",
    "            this_passport = {}\n",
    "        else:\n",
    "            pairs = l.split(' ')\n",
    "            for pair in pairs:\n",
    "                key = pair.split(':')[0]\n",
    "                val = pair.split(':')[1]\n",
    "                this_passport[key] = val\n",
    "        \n",
    "print(total)\n",
    "print(f'all passports: {all_passport}')"
   ]
  },
  {
   "cell_type": "markdown",
   "metadata": {},
   "source": [
    "### part 2"
   ]
  },
  {
   "cell_type": "code",
   "execution_count": 79,
   "metadata": {},
   "outputs": [
    {
     "name": "stdout",
     "output_type": "stream",
     "text": [
      "172\n"
     ]
    }
   ],
   "source": [
    "eye_colors = set((\"amb\", \"blu\", \"brn\", \"gry\", \"grn\", \"hzl\", \"oth\"))\n",
    "total = 0\n",
    "this_passport = {}\n",
    "\n",
    "with open(inp4_file) as f:\n",
    "    for line in f:\n",
    "        l = line.strip('\\n')\n",
    "        if len(l) == 0:\n",
    "            if this_passport:\n",
    "                f_count = 0\n",
    "                for field in reqd_fields:\n",
    "                    if field in this_passport:\n",
    "                        # no switch in python?\n",
    "                        val = this_passport[field]\n",
    "                        if (field == \"byr\" and \n",
    "                            int(val) >= 1920 and\n",
    "                           int(val) <= 2002):\n",
    "                            f_count += 1\n",
    "                        elif (field =='iyr' and\n",
    "                             int(val) >= 2010 and\n",
    "                             int(val) <= 2020):\n",
    "                            f_count += 1\n",
    "                        elif (field =='eyr' and\n",
    "                             int(val) >= 2020 and\n",
    "                             int(val) <= 2030):\n",
    "                            f_count += 1\n",
    "                        elif field =='hgt':\n",
    "                            pos = val.find(\"cm\")\n",
    "                            if pos != -1:\n",
    "                                ht = int(val[:pos])\n",
    "                                if ht >= 150 and ht <= 193:\n",
    "                                    f_count +=1\n",
    "                                else:\n",
    "                                    break\n",
    "                            else: # not cm\n",
    "                                pos = val.find(\"in\")\n",
    "                                if pos != -1:\n",
    "                                    ht = int(val[:pos])\n",
    "                                    if ht >= 59 and ht <= 76:\n",
    "                                        f_count +=1\n",
    "                                    else:\n",
    "                                        break\n",
    "                        elif field == \"hcl\":\n",
    "                            if len(val)==7 and val[0] == \"#\":\n",
    "                                valid_count = 0\n",
    "                                for c in val[1:]:\n",
    "                                    if (c>=\"0\" and c<=\"9\") or (c>=\"a\" and c<=\"f\"):\n",
    "                                        valid_count += 1\n",
    "                                if valid_count == 6:\n",
    "                                    f_count += 1\n",
    "                                else :\n",
    "                                    break\n",
    "                            else:\n",
    "                                break\n",
    "                        elif field == \"ecl\" and val in eye_colors:\n",
    "                            f_count += 1\n",
    "                        elif field == \"pid\" :\n",
    "                            if len(val) == 9:\n",
    "                                valid_count = 0\n",
    "                                for c in val:\n",
    "                                    if c>=\"0\" and c<=\"9\":\n",
    "                                        valid_count += 1\n",
    "                                if valid_count == 9:\n",
    "                                    f_count += 1\n",
    "                            else:\n",
    "                                break\n",
    "                                \n",
    "                    else:\n",
    "                        break\n",
    "                if f_count == 7:\n",
    "#                     print(this_passport)\n",
    "                    total += 1\n",
    "            else:\n",
    "                print(\"not passport\")\n",
    "                print(this_passport)\n",
    "            this_passport = {}\n",
    "        else:\n",
    "            pairs = l.split(' ')\n",
    "            for pair in pairs:\n",
    "                key = pair.split(':')[0]\n",
    "                val = pair.split(':')[1]\n",
    "                this_passport[key] = val\n",
    "        \n",
    "print(total)"
   ]
  },
  {
   "cell_type": "markdown",
   "metadata": {},
   "source": [
    "## Problem-5 part 1"
   ]
  },
  {
   "cell_type": "code",
   "execution_count": 112,
   "metadata": {},
   "outputs": [
    {
     "name": "stdout",
     "output_type": "stream",
     "text": [
      "best:  998\n",
      "id: 0, row: 0, col: 0\n",
      "id: 1, row: 0, col: 1\n",
      "id: 2, row: 0, col: 2\n",
      "id: 3, row: 0, col: 3\n",
      "id: 4, row: 0, col: 4\n",
      "id: 5, row: 0, col: 5\n",
      "id: 6, row: 0, col: 6\n",
      "id: 7, row: 0, col: 7\n",
      "id: 8, row: 1, col: 0\n",
      "id: 9, row: 1, col: 1\n",
      "id: 10, row: 1, col: 2\n",
      "id: 11, row: 1, col: 3\n",
      "id: 12, row: 1, col: 4\n",
      "id: 13, row: 1, col: 5\n",
      "id: 14, row: 1, col: 6\n",
      "id: 15, row: 1, col: 7\n",
      "id: 16, row: 2, col: 0\n",
      "id: 17, row: 2, col: 1\n",
      "id: 18, row: 2, col: 2\n",
      "id: 19, row: 2, col: 3\n",
      "id: 20, row: 2, col: 4\n",
      "id: 21, row: 2, col: 5\n",
      "id: 22, row: 2, col: 6\n",
      "id: 23, row: 2, col: 7\n",
      "id: 24, row: 3, col: 0\n",
      "id: 25, row: 3, col: 1\n",
      "id: 26, row: 3, col: 2\n",
      "id: 27, row: 3, col: 3\n",
      "id: 28, row: 3, col: 4\n",
      "id: 29, row: 3, col: 5\n",
      "id: 30, row: 3, col: 6\n",
      "id: 31, row: 3, col: 7\n",
      "id: 32, row: 4, col: 0\n",
      "id: 33, row: 4, col: 1\n",
      "id: 34, row: 4, col: 2\n",
      "id: 35, row: 4, col: 3\n",
      "id: 36, row: 4, col: 4\n",
      "id: 37, row: 4, col: 5\n",
      "id: 676, row: 84, col: 4\n",
      "id: 999, row: 124, col: 7\n",
      "id: 1000, row: 125, col: 0\n",
      "id: 1001, row: 125, col: 1\n",
      "id: 1002, row: 125, col: 2\n",
      "id: 1003, row: 125, col: 3\n",
      "id: 1004, row: 125, col: 4\n",
      "id: 1005, row: 125, col: 5\n",
      "id: 1006, row: 125, col: 6\n",
      "id: 1007, row: 125, col: 7\n",
      "id: 1008, row: 126, col: 0\n",
      "id: 1009, row: 126, col: 1\n",
      "id: 1010, row: 126, col: 2\n",
      "id: 1011, row: 126, col: 3\n",
      "id: 1012, row: 126, col: 4\n",
      "id: 1013, row: 126, col: 5\n",
      "id: 1014, row: 126, col: 6\n",
      "id: 1015, row: 126, col: 7\n",
      "id: 1016, row: 127, col: 0\n",
      "id: 1017, row: 127, col: 1\n",
      "id: 1018, row: 127, col: 2\n",
      "id: 1019, row: 127, col: 3\n",
      "id: 1020, row: 127, col: 4\n",
      "id: 1021, row: 127, col: 5\n",
      "id: 1022, row: 127, col: 6\n",
      "id: 1023, row: 127, col: 7\n"
     ]
    }
   ],
   "source": [
    "# load data from input file\n",
    "inp5_file = \"p5-input.txt\"\n",
    "arr = []\n",
    "score = 0\n",
    "found_ids = set()\n",
    "with open(inp5_file) as f:\n",
    "    for line in f:\n",
    "        l = line.strip('\\n')\n",
    "        down, up = 0, 127\n",
    "        for i in range(7):\n",
    "            if l[i] == \"F\":\n",
    "                up = (up + down) // 2\n",
    "                row = up\n",
    "            else:\n",
    "                down = ((up + down) // 2) + 1\n",
    "                row = down\n",
    "\n",
    "        down, up = 0, 7\n",
    "        for i in range(7, 10):\n",
    "            if l[i] == \"L\":\n",
    "                up = (up + down) // 2\n",
    "                col = up\n",
    "            else:\n",
    "                down = ((up + down) // 2) + 1\n",
    "                col = down\n",
    "\n",
    "        \n",
    "        my_score = (row*8) + col\n",
    "        found_ids.add(my_score)\n",
    "        if my_score > score:\n",
    "            score = my_score\n",
    "        \n",
    "        \n",
    "print(\"best: \",score)\n",
    "\n",
    "\n",
    "for i in range(128):\n",
    "    for j in range(8):\n",
    "        my_score = (i*8) + j\n",
    "        if my_score not in found_ids:\n",
    "            print(f\"id: {my_score}, row: {i}, col: {j}\")\n",
    "    \n",
    "        \n",
    "                "
   ]
  },
  {
   "cell_type": "markdown",
   "metadata": {},
   "source": [
    "## Day 6 - part 1\n"
   ]
  },
  {
   "cell_type": "code",
   "execution_count": 8,
   "metadata": {},
   "outputs": [
    {
     "name": "stdout",
     "output_type": "stream",
     "text": [
      "total:  6416\n"
     ]
    }
   ],
   "source": [
    "inp6_file = \"p6-input.txt\"\n",
    "total = 0\n",
    "this_group = set()\n",
    "with open(inp6_file) as f:\n",
    "    for line in f:\n",
    "        l = line.strip('\\n')\n",
    "        if len(l) == 0:\n",
    "            total += len(this_group)\n",
    "#             print(\"cur_total: \", total)\n",
    "#             print(this_group)\n",
    "#             print(len(this_group))\n",
    "            this_group = set()\n",
    "        else:\n",
    "            for c in l:\n",
    "                this_group.add(c)\n",
    "                \n",
    "# print(this_group)\n",
    "# print(len(this_group))\n",
    "total += len(this_group)\n",
    "print(\"total: \", total)"
   ]
  },
  {
   "cell_type": "markdown",
   "metadata": {},
   "source": [
    "### part 2"
   ]
  },
  {
   "cell_type": "code",
   "execution_count": 53,
   "metadata": {},
   "outputs": [],
   "source": [
    "def group_common_questions(person_qs):\n",
    "    pid = 0\n",
    "    this_line = set()\n",
    "    this_group = set()\n",
    "    for person_q in person_qs:\n",
    "        this_line = set()\n",
    "        for c in person_q:\n",
    "            this_line.add(c)\n",
    "        if pid == 0:\n",
    "            this_group = this_group | this_line\n",
    "        else:\n",
    "            this_group = this_group & this_line\n",
    "        pid += 1\n",
    "#     print(person_qs)\n",
    "#     print(this_group, len(this_group))\n",
    "    return len(this_group)"
   ]
  },
  {
   "cell_type": "code",
   "execution_count": 54,
   "metadata": {},
   "outputs": [
    {
     "name": "stdout",
     "output_type": "stream",
     "text": [
      "total:  3050\n"
     ]
    }
   ],
   "source": [
    "total = 0\n",
    "this_group = []\n",
    "this_line = set()\n",
    "line_in_group = 0\n",
    "with open(inp6_file) as f:\n",
    "    for line in f:\n",
    "        l = line.strip('\\n')\n",
    "        if len(l) == 0:\n",
    "            total += group_common_questions(this_group)\n",
    "            this_group = []\n",
    "        else:\n",
    "            this_group.append(l)\n",
    "            \n",
    "\n",
    "total += group_common_questions(this_group)\n",
    "print(\"total: \", total)\n",
    "# not 4231\n",
    "# ans: 3050"
   ]
  },
  {
   "cell_type": "markdown",
   "metadata": {},
   "source": [
    "## Day 7 - part 1"
   ]
  },
  {
   "cell_type": "code",
   "execution_count": 22,
   "metadata": {},
   "outputs": [
    {
     "name": "stdout",
     "output_type": "stream",
     "text": [
      "{'dull purple', 'mirrored purple', 'shiny plum', 'light chartreuse', 'shiny beige', 'vibrant olive'}\n"
     ]
    }
   ],
   "source": [
    "inp7_file = \"p7-input.txt\"\n",
    "\n",
    "bag_dict = {}\n",
    "\n",
    "with open(inp7_file) as f:\n",
    "    for line in f:\n",
    "        l = line.strip('\\n')\n",
    "        sent_struct = l.split('bags contain')\n",
    "        outer = sent_struct[0].strip()\n",
    "        inner_rules = sent_struct[1].split(',')\n",
    "        inside = []\n",
    "        for bag in inner_rules:\n",
    "            bag_struct = bag.strip().split(' ')\n",
    "            if bag_struct[0] != \"no\":\n",
    "                bag_name = bag_struct[1] + ' ' + bag_struct[2]\n",
    "                if bag_name not in bag_dict:\n",
    "                    bag_dict[bag_name] = set()\n",
    "                bag_dict[bag_name].add(outer)\n",
    "    print(bag_dict[\"shiny gold\"])"
   ]
  },
  {
   "cell_type": "code",
   "execution_count": 42,
   "metadata": {},
   "outputs": [
    {
     "name": "stdout",
     "output_type": "stream",
     "text": [
      "count:  151\n",
      "res:  151\n"
     ]
    }
   ],
   "source": [
    "my_bag = \"shiny gold\"\n",
    "find_bags = list(bag_dict[my_bag])\n",
    "visited_bags = set()\n",
    "visited_bags.add(my_bag)\n",
    "count = 0\n",
    "res = set()\n",
    "\n",
    "while len(find_bags) != 0:\n",
    "    cur_bag = find_bags[0]\n",
    "    find_bags = find_bags[1:]\n",
    "    res.add(cur_bag)\n",
    "#     print(cur_bag)\n",
    "    if cur_bag not in visited_bags:\n",
    "        count += 1\n",
    "        if cur_bag in bag_dict:\n",
    "            for outer in bag_dict[cur_bag]:\n",
    "                if outer not in visited_bags:\n",
    "                    find_bags.append(outer)\n",
    "#                     print(f'{cur_bag} -> {outer} ')\n",
    "        visited_bags.add(cur_bag)\n",
    "print(\"count: \", count)\n",
    "print(\"res: \", len(res))\n",
    "# not 238\n",
    "# not 175\n",
    "# not 164\n",
    "# not 152"
   ]
  },
  {
   "cell_type": "code",
   "execution_count": 60,
   "metadata": {},
   "outputs": [
    {
     "name": "stdout",
     "output_type": "stream",
     "text": [
      "41559\n"
     ]
    }
   ],
   "source": [
    "rev_bag_dict = {}\n",
    "\n",
    "with open(inp7_file) as f:\n",
    "    for line in f:\n",
    "        l = line.strip('\\n')\n",
    "        sent_struct = l.split('bags contain')\n",
    "        outer = sent_struct[0].strip()\n",
    "        inner_rules = sent_struct[1].split(',')\n",
    "        if outer not in rev_bag_dict:\n",
    "            rev_bag_dict[outer] = {}\n",
    "        for bag in inner_rules:\n",
    "            bag_struct = bag.strip().split(' ')\n",
    "            if bag_struct[0] != \"no\":\n",
    "                bag_count = int(bag_struct[0])\n",
    "                bag_name = bag_struct[1] + ' ' + bag_struct[2]\n",
    "                rev_bag_dict[outer][bag_name] = bag_count\n",
    "                if bag_name not in rev_bag_dict:\n",
    "                    rev_bag_dict[bag_name] = {}\n",
    "\n",
    "\n",
    "# print(rev_bag_dict)\n",
    "bags_count = {}\n",
    "\n",
    "def get_bags_count(bag):\n",
    "    if bag in bags_count:\n",
    "        return bags_count[bag]\n",
    "    \n",
    "    if len(rev_bag_dict[bag].keys()) == 0:\n",
    "        bags_count[bag] = 1\n",
    "        return bags_count[bag]\n",
    "    \n",
    "    total = 1\n",
    "    for inner in rev_bag_dict[bag].keys():\n",
    "        get_bags_count(inner)\n",
    "        total += bags_count[inner]*rev_bag_dict[bag][inner]\n",
    "    bags_count[bag] = total\n",
    "    return total\n",
    "\n",
    "\n",
    "ans = get_bags_count(my_bag) - 1\n",
    "print(ans)\n",
    "\n",
    "# not 41560 - too high\n",
    "# ans 41559\n"
   ]
  },
  {
   "cell_type": "markdown",
   "metadata": {},
   "source": [
    "## day 8 - part 1"
   ]
  },
  {
   "cell_type": "code",
   "execution_count": 31,
   "metadata": {},
   "outputs": [],
   "source": [
    "inp8_file = \"p8-input.txt\"\n",
    "\n",
    "boot_code = []\n",
    "\n",
    "with open(inp8_file) as f:\n",
    "    for line in f:\n",
    "        l = line.strip('\\n')\n",
    "        command, val = l.split(' ')[0], int(l.split(' ')[1])\n",
    "        boot_code.append([command, val])\n",
    "\n",
    "# print(boot_code)"
   ]
  },
  {
   "cell_type": "code",
   "execution_count": 32,
   "metadata": {},
   "outputs": [
    {
     "name": "stdout",
     "output_type": "stream",
     "text": [
      "acc:  1501\n"
     ]
    }
   ],
   "source": [
    "acc = 0\n",
    "visited = set()\n",
    "loop = False\n",
    "cur_line = 0\n",
    "while cur_line < len(boot_code):\n",
    "    if cur_line in visited:\n",
    "        loop = True\n",
    "        break\n",
    "    else:\n",
    "        visited.add(cur_line)\n",
    "        if boot_code[cur_line][0] == \"acc\":\n",
    "            acc += boot_code[cur_line][1]\n",
    "            cur_line += 1\n",
    "        elif boot_code[cur_line][0] == \"nop\":\n",
    "            cur_line += 1\n",
    "        else:\n",
    "            cur_line += boot_code[cur_line][1]\n",
    "    \n",
    "print(\"acc: \", acc)\n",
    "# ans: 1501"
   ]
  },
  {
   "cell_type": "markdown",
   "metadata": {},
   "source": [
    "### part 2"
   ]
  },
  {
   "cell_type": "code",
   "execution_count": 33,
   "metadata": {},
   "outputs": [
    {
     "name": "stdout",
     "output_type": "stream",
     "text": [
      "loop, cur: 47, prev: 509 \n",
      "acc:  1501\n",
      "prev: 509, cur: 47\n",
      "changed line: 216, to: ['nop', -44]\n",
      "acc:  509\n"
     ]
    }
   ],
   "source": [
    "acc = 0\n",
    "visited = set()\n",
    "loop = False\n",
    "cur_line = 0\n",
    "prev_line = -1\n",
    "while cur_line < len(boot_code):\n",
    "    if cur_line in visited:\n",
    "        print(f\"loop, cur: {cur_line}, prev: {prev_line} \")\n",
    "        loop = True\n",
    "        break\n",
    "    else:\n",
    "        prev_line = cur_line\n",
    "        visited.add(cur_line)\n",
    "        if boot_code[cur_line][0] == \"acc\":\n",
    "            acc += boot_code[cur_line][1]\n",
    "            cur_line += 1\n",
    "        elif boot_code[cur_line][0] == \"nop\":\n",
    "            cur_line += 1\n",
    "        else:\n",
    "            cur_line += boot_code[cur_line][1]\n",
    "    \n",
    "print(\"acc: \", acc)\n",
    "# boot_code[prev_line] = ((\"nop\", 0))\n",
    "\n",
    "\n",
    "def is_loop(boot_code):\n",
    "    visited = set()\n",
    "    loop = False\n",
    "    cur_line = 0\n",
    "    while cur_line < len(boot_code):\n",
    "        if cur_line in visited:\n",
    "            return True\n",
    "            break\n",
    "        else:\n",
    "            visited.add(cur_line)\n",
    "            if boot_code[cur_line][0] in (\"acc\", \"nop\"):\n",
    "                cur_line += 1\n",
    "            else:\n",
    "                cur_line += boot_code[cur_line][1]\n",
    "    return False\n",
    "\n",
    "\n",
    "print(f\"prev: {prev_line}, cur: {cur_line}\")\n",
    "\n",
    "for i in range(cur_line, prev_line+1):\n",
    "    if boot_code[i][0] == \"nop\":\n",
    "        boot_code[i][0] = \"jmp\"\n",
    "        if not is_loop(boot_code):\n",
    "            print(f\"changed line: {i}, to: {boot_code[i]}\")\n",
    "            break\n",
    "        boot_code[i][0] = \"nop\"\n",
    "    elif boot_code[i][0] == \"jmp\":\n",
    "        boot_code[i][0] = \"nop\"\n",
    "        if not is_loop(boot_code):\n",
    "            print(f\"changed line: {i}, to: {boot_code[i]}\")\n",
    "            break\n",
    "        boot_code[i][0] = \"jmp\"\n",
    "\n",
    "\n",
    "# assume no more loop\n",
    "acc = 0\n",
    "cur_line = 0\n",
    "while cur_line < len(boot_code):\n",
    "    if boot_code[cur_line][0] == \"acc\":\n",
    "        acc += boot_code[cur_line][1]\n",
    "        cur_line += 1\n",
    "    elif boot_code[cur_line][0] == \"nop\":\n",
    "        cur_line += 1\n",
    "    else:\n",
    "        cur_line += boot_code[cur_line][1]\n",
    "print(\"acc: \", acc)"
   ]
  },
  {
   "cell_type": "markdown",
   "metadata": {},
   "source": [
    "## day 9 - part 1"
   ]
  },
  {
   "cell_type": "code",
   "execution_count": 36,
   "metadata": {},
   "outputs": [],
   "source": [
    "inp9_file = \"p9-input.txt\"\n",
    "\n",
    "data_stream = []\n",
    "\n",
    "with open(inp9_file) as f:\n",
    "    for line in f:\n",
    "        l = line.strip('\\n')\n",
    "        data_stream.append(int(l))\n",
    "\n",
    "# print(data_stream)\n",
    "\n"
   ]
  },
  {
   "cell_type": "code",
   "execution_count": 38,
   "metadata": {},
   "outputs": [
    {
     "name": "stdout",
     "output_type": "stream",
     "text": [
      "invalid: 373803594, pos: 622\n"
     ]
    }
   ],
   "source": [
    "queue = []\n",
    "for i in range(25):\n",
    "    queue.append(data_stream[i])\n",
    "    \n",
    "def is_valid_sum(data_stream, val):\n",
    "    for i in range(25):\n",
    "        for j in range(i+1, 25):\n",
    "            if data_stream[i]!=data_stream[j] and data_stream[i] + data_stream[j] == val:\n",
    "                return True\n",
    "    return False\n",
    "    \n",
    "for i in range(26, len(data_stream)):\n",
    "    if not is_valid_sum(queue ,data_stream[i]):\n",
    "        print(f\"invalid: {data_stream[i]}, pos: {i}\")\n",
    "        break\n",
    "    queue.append(data_stream[i])\n",
    "    queue = queue[1:]\n",
    "    \n",
    "\n",
    "    \n",
    "    "
   ]
  },
  {
   "cell_type": "code",
   "execution_count": 44,
   "metadata": {},
   "outputs": [
    {
     "name": "stdout",
     "output_type": "stream",
     "text": [
      "507, 523, small: 15104298, big: 15104298\n",
      "sum: 30208596\n"
     ]
    }
   ],
   "source": [
    "invalid_num = 373803594\n",
    "for i in range(len(data_stream)):\n",
    "    for j in range(i+1, len(data_stream)-1):\n",
    "        local_sum = 0\n",
    "        for k in range(i, j+1):\n",
    "            local_sum += data_stream[k]\n",
    "        if local_sum == invalid_num:\n",
    "            print(f\"{i}, {j}, small: {data_stream[i]}, big: {data_stream[i]}\")\n",
    "            print(f\"sum: {data_stream[i] + data_stream[i]}\")\n",
    "            break\n",
    "    \n",
    "# not: 30208596 high\n",
    "# low: 40120164"
   ]
  },
  {
   "cell_type": "code",
   "execution_count": 45,
   "metadata": {},
   "outputs": [
    {
     "data": {
      "text/plain": [
       "373803594"
      ]
     },
     "execution_count": 45,
     "metadata": {},
     "output_type": "execute_result"
    }
   ],
   "source": [
    "x = 0\n",
    "small, large = data_stream[507], data_stream[507] \n",
    "for i in range(507, 524):\n",
    "    small = min(small, data_stream[i])\n",
    "    large = max(large, data_stream[i])\n",
    "    x+= data_stream[i]\n",
    "print(f\"sum: {x}, smallest: {small}, largest: {large}\")\n",
    "printf(f\"sl sum: {small }\")"
   ]
  },
  {
   "cell_type": "code",
   "execution_count": 47,
   "metadata": {},
   "outputs": [
    {
     "data": {
      "text/plain": [
       "40120164"
      ]
     },
     "execution_count": 47,
     "metadata": {},
     "output_type": "execute_result"
    }
   ],
   "source": [
    "data_stream[507]+ data_stream[523]"
   ]
  },
  {
   "cell_type": "markdown",
   "metadata": {},
   "source": [
    "## day 10 - part 1"
   ]
  },
  {
   "cell_type": "code",
   "execution_count": 8,
   "metadata": {},
   "outputs": [
    {
     "name": "stdout",
     "output_type": "stream",
     "text": [
      "[0, 1, 2, 3, 6, 7, 10, 11, 12, 13, 14, 17, 18, 19, 22, 23, 24, 25, 28, 31, 32, 33, 34, 35, 38, 39, 40, 41, 42, 45, 48, 51, 52, 53, 54, 57, 58, 59, 60, 63, 66, 69, 70, 71, 72, 73, 76, 77, 78, 79, 82, 83, 84, 85, 86, 89, 92, 93, 94, 95, 96, 99, 100, 101, 102, 103, 106, 107, 108, 111, 112, 113, 114, 115, 118, 121, 122, 125, 126, 127, 128, 131, 134, 135, 136, 137, 138, 141, 142, 143, 144, 145, 148, 151, 152, 153, 154, 157, 160, 163, 164, 165, 166, 167, 170, 173, 176, 177, 180, 181, 182, 183, 186]\n"
     ]
    }
   ],
   "source": [
    "inp10_file = \"p10-input.txt\"\n",
    "\n",
    "adapters = [0]\n",
    "\n",
    "with open(inp10_file) as f:\n",
    "    for line in f:\n",
    "        adapters.append(int(line.strip('\\n'))) \n",
    "\n",
    "adapters.sort()\n",
    "adapters.append(adapters[-1] + 3)\n",
    "print(adapters)\n"
   ]
  },
  {
   "cell_type": "code",
   "execution_count": 9,
   "metadata": {},
   "outputs": [
    {
     "name": "stdout",
     "output_type": "stream",
     "text": [
      "{1: 75, 3: 37}\n",
      "2775\n"
     ]
    }
   ],
   "source": [
    "count_diff = {}\n",
    "for i in range(len(adapters)-1):\n",
    "    diff = adapters[i+1] - adapters[i]\n",
    "    if diff not in count_diff:\n",
    "        count_diff[diff] = 0\n",
    "    if diff > 3:\n",
    "        print(f\"diff:{diff}, i: {i}\")\n",
    "    count_diff[diff] += 1\n",
    "    \n",
    "print(count_diff)\n",
    "print(count_diff[1] * count_diff[3])\n",
    "# low: 2738"
   ]
  },
  {
   "cell_type": "code",
   "execution_count": 11,
   "metadata": {},
   "outputs": [
    {
     "name": "stdout",
     "output_type": "stream",
     "text": [
      "518344341716992\n"
     ]
    }
   ],
   "source": [
    "ways = [0] * len(adapters)\n",
    "ways[0], ways[1], ways[2] = 1, 1, 2\n",
    "\n",
    "\n",
    "for i in range(3, len(adapters)):\n",
    "    if adapters[i] - adapters[i-1] <= 3:\n",
    "        ways[i] += ways[i-1]\n",
    "    if adapters[i] - adapters[i-2] <= 3:\n",
    "        ways[i] += ways[i-2]\n",
    "    if adapters[i] - adapters[i-3] <= 3:\n",
    "        ways[i] += ways[i-3]\n",
    "\n",
    "print(ways[-1])\n",
    "# ans: 518344341716992"
   ]
  },
  {
   "cell_type": "markdown",
   "metadata": {},
   "source": [
    "## day 11 -part 1"
   ]
  },
  {
   "cell_type": "code",
   "execution_count": 58,
   "metadata": {},
   "outputs": [
    {
     "name": "stdout",
     "output_type": "stream",
     "text": [
      ".\n"
     ]
    }
   ],
   "source": [
    "import copy\n",
    "inp11_file = \"p11-input.txt\"\n",
    "\n",
    "seats = []\n",
    "\n",
    "with open(inp11_file) as f:\n",
    "    for line in f:\n",
    "        seats.append(list(line.strip('\\n')))\n",
    "        \n",
    "orig_seats = copy.deepcopy(seats)\n",
    "print(seats[6][2])\n"
   ]
  },
  {
   "cell_type": "code",
   "execution_count": 59,
   "metadata": {},
   "outputs": [
    {
     "name": "stdout",
     "output_type": "stream",
     "text": [
      "filled seats:  2126\n"
     ]
    }
   ],
   "source": [
    "changes = -1\n",
    "\n",
    "while changes!=0:\n",
    "    changes = 0\n",
    "    next_seats = []\n",
    "    for i in range(len(seats)):\n",
    "        next_row = []\n",
    "        for j in range(len(seats[i])):\n",
    "            count = 0\n",
    "            if i-1 >= 0:\n",
    "                if seats[i-1][j] == '#':\n",
    "                    count +=1\n",
    "                if j-1>=0 and seats[i-1][j-1] == '#':\n",
    "                    count +=1\n",
    "                if j+1<len(seats[i]) and seats[i-1][j+1] == '#':\n",
    "                    count +=1\n",
    "            if j-1 >= 0:\n",
    "                if seats[i][j-1] == '#':\n",
    "                    count += 1\n",
    "                if i+1<len(seats) and seats[i+1][j-1] == '#':\n",
    "                    count +=1\n",
    "            if i+1 < len(seats):\n",
    "                if seats[i+1][j] == '#':\n",
    "                    count +=1\n",
    "                if j+1<len(seats[i]) and seats[i+1][j+1] == '#':\n",
    "                    count +=1\n",
    "            if j+1 < len(seats[i]) and seats[i][j+1] == '#':\n",
    "                    count +=1\n",
    "\n",
    "            if count == 0 and seats[i][j]=='L':\n",
    "                next_row.append('#')\n",
    "#                 print(f'{i}, {j}, now occupied')\n",
    "                changes += 1\n",
    "            elif count >= 4 and seats[i][j] == '#':\n",
    "                changes += 1\n",
    "                next_row.append('L')\n",
    "            else:\n",
    "                next_row.append(seats[i][j])\n",
    "        next_seats.append(next_row)\n",
    "    seats = next_seats\n",
    "#     print(\"next seats\")\n",
    "#     print(next_seats)\n",
    "#     print(f'changes: {changes}')\n",
    "\n",
    "\n",
    "# print(seats)\n",
    "filled_seats = 0\n",
    "for i in range(len(seats)):\n",
    "        for j in range(len(seats[i])):    \n",
    "            if seats[i][j] == '#':\n",
    "                filled_seats += 1\n",
    "                \n",
    "print(\"filled seats: \", filled_seats)\n",
    "\n",
    "# high: 3583\n",
    "# ans: 2126"
   ]
  },
  {
   "cell_type": "code",
   "execution_count": 63,
   "metadata": {},
   "outputs": [
    {
     "name": "stdout",
     "output_type": "stream",
     "text": [
      "changes: 6823\n",
      "changes: 6819\n",
      "changes: 6807\n",
      "changes: 6799\n",
      "changes: 6774\n",
      "changes: 6762\n",
      "changes: 6726\n",
      "changes: 6710\n",
      "changes: 6662\n",
      "changes: 6645\n",
      "changes: 6590\n",
      "changes: 6566\n",
      "changes: 6495\n",
      "changes: 6467\n",
      "changes: 6390\n",
      "changes: 6359\n",
      "changes: 6269\n",
      "changes: 6235\n",
      "changes: 6133\n",
      "changes: 6092\n",
      "changes: 5980\n",
      "changes: 5939\n",
      "changes: 5826\n",
      "changes: 5778\n",
      "changes: 5641\n",
      "changes: 5584\n",
      "changes: 5433\n",
      "changes: 5368\n",
      "changes: 5195\n",
      "changes: 5132\n",
      "changes: 4963\n",
      "changes: 4894\n",
      "changes: 4702\n",
      "changes: 4632\n",
      "changes: 4438\n",
      "changes: 4359\n",
      "changes: 4146\n",
      "changes: 4062\n",
      "changes: 3840\n",
      "changes: 3753\n",
      "changes: 3523\n",
      "changes: 3442\n",
      "changes: 3243\n",
      "changes: 3153\n",
      "changes: 2924\n",
      "changes: 2846\n",
      "changes: 2648\n",
      "changes: 2564\n",
      "changes: 2362\n",
      "changes: 2288\n",
      "changes: 2115\n",
      "changes: 2054\n",
      "changes: 1897\n",
      "changes: 1832\n",
      "changes: 1667\n",
      "changes: 1609\n",
      "changes: 1465\n",
      "changes: 1406\n",
      "changes: 1267\n",
      "changes: 1208\n",
      "changes: 1076\n",
      "changes: 1032\n",
      "changes: 917\n",
      "changes: 873\n",
      "changes: 772\n",
      "changes: 735\n",
      "changes: 643\n",
      "changes: 605\n",
      "changes: 510\n",
      "changes: 474\n",
      "changes: 393\n",
      "changes: 361\n",
      "changes: 292\n",
      "changes: 268\n",
      "changes: 214\n",
      "changes: 195\n",
      "changes: 146\n",
      "changes: 122\n",
      "changes: 77\n",
      "changes: 62\n",
      "changes: 32\n",
      "changes: 23\n",
      "changes: 7\n",
      "changes: 2\n",
      "changes: 0\n"
     ]
    }
   ],
   "source": [
    "# print(orig_seats)\n",
    "seats = orig_seats\n",
    "changes = -1\n",
    "\n",
    "while changes!=0:\n",
    "    changes = 0\n",
    "    next_seats = []\n",
    "    for i in range(len(seats)):\n",
    "        next_row = []\n",
    "        for j in range(len(seats[i])):\n",
    "            count = 0\n",
    "            \n",
    "            # go in all directions until end or filled seat is found\n",
    "            for xx in range(-1, 2):\n",
    "                for yy in range(-1, 2):\n",
    "                    if not (xx==0 and yy==0):\n",
    "                        zz = 1\n",
    "                        eff_x, eff_y = i+(xx*zz), j+(yy*zz)\n",
    "                        while eff_x>=0 and eff_x<len(seats) and eff_y>=0 and eff_y<len(seats[i]):\n",
    "                            if seats[eff_x][eff_y] == '#':\n",
    "                                count += 1\n",
    "                                break\n",
    "                            elif seats[eff_x][eff_y] == 'L':\n",
    "                                break\n",
    "                            zz+=1\n",
    "                            eff_x, eff_y = i+(xx*zz), j+(yy*zz)\n",
    "            \n",
    "            if count == 0 and seats[i][j]=='L':\n",
    "                next_row.append('#')\n",
    "                changes += 1\n",
    "            elif count >= 5 and seats[i][j] == '#':\n",
    "                changes += 1\n",
    "                next_row.append('L')\n",
    "            else:\n",
    "                next_row.append(seats[i][j])\n",
    "        next_seats.append(next_row)\n",
    "    seats = next_seats\n",
    "    print(f'changes: {changes}')\n"
   ]
  },
  {
   "cell_type": "code",
   "execution_count": 64,
   "metadata": {},
   "outputs": [
    {
     "name": "stdout",
     "output_type": "stream",
     "text": [
      "filled seats:  1914\n"
     ]
    }
   ],
   "source": [
    "filled_seats = 0\n",
    "for i in range(len(seats)):\n",
    "    for j in range(len(seats[i])):    \n",
    "        if seats[i][j] == '#':\n",
    "            filled_seats += 1\n",
    "                \n",
    "print(\"filled seats: \", filled_seats)\n",
    "#low: 123\n",
    "#ans: 1914"
   ]
  },
  {
   "cell_type": "markdown",
   "metadata": {},
   "source": [
    "## day 12"
   ]
  },
  {
   "cell_type": "code",
   "execution_count": 32,
   "metadata": {},
   "outputs": [
    {
     "name": "stdout",
     "output_type": "stream",
     "text": [
      "['F', 18]\n"
     ]
    }
   ],
   "source": [
    "inp12_file = \"p12-input.txt\"\n",
    "\n",
    "dirs = []\n",
    "\n",
    "with open(inp12_file) as f:\n",
    "    for line in f:\n",
    "        l = line.strip('\\n')\n",
    "        dirs.append([l[0], int(l[1:])])\n",
    "        \n",
    "print(dirs[1])"
   ]
  },
  {
   "cell_type": "code",
   "execution_count": 33,
   "metadata": {},
   "outputs": [
    {
     "name": "stdout",
     "output_type": "stream",
     "text": [
      "x: -168, y: -1670, x+y: -1838\n"
     ]
    }
   ],
   "source": [
    "compass = ['n', 'e', 's', 'w'] # in order of right 90 degrees\n",
    "comp_needle = 1\n",
    "x, y = 0, 0\n",
    "\n",
    "for dir in dirs:\n",
    "    if dir[0] == 'N':\n",
    "        y += dir[1]\n",
    "    elif dir[0] == 'S':\n",
    "        y -= dir[1]\n",
    "    elif dir[0] == 'E':\n",
    "        x += dir[1]\n",
    "    elif dir[0] == 'W':\n",
    "        x -= dir[1]\n",
    "    elif dir[0] == 'L':\n",
    "        turn_by = dir[1] / 90\n",
    "        comp_needle = int((comp_needle - turn_by) % 4)\n",
    "    elif dir[0] == 'R':\n",
    "        turn_by = dir[1] / 90\n",
    "        comp_needle = int((comp_needle + turn_by) % 4)\n",
    "    elif dir[0] == 'F':\n",
    "        if comp_needle==0:\n",
    "            y+=dir[1]\n",
    "        elif comp_needle==2:\n",
    "            y-=dir[1]\n",
    "        elif comp_needle==1:\n",
    "            x+=dir[1]\n",
    "        elif comp_needle==3:\n",
    "            x-=dir[1]\n",
    "#     print(f'compass: {comp_needle}')        \n",
    "#     print(f'x: {x}, y: {y}, compass: {compass[comp_needle]}')\n",
    "\n",
    "print(f'x: {x}, y: {y}, x+y: {x+y}')\n",
    "# low: 746\n",
    "# correct: 1838"
   ]
  },
  {
   "cell_type": "code",
   "execution_count": 35,
   "metadata": {},
   "outputs": [
    {
     "name": "stdout",
     "output_type": "stream",
     "text": [
      "x: -61910, y: 28026, x+y: 89936\n"
     ]
    }
   ],
   "source": [
    "# dirs = [['F',10], ['N',3], ['F',7], ['R',90], ['F',11]]\n",
    "\n",
    "dir_vec = [10, 1] # or where the waypoint is , east / north\n",
    "my_pos = [0, 0]\n",
    "\n",
    "for dir in dirs:\n",
    "    if dir[0] == 'N':\n",
    "        dir_vec[1] += dir[1]\n",
    "    elif dir[0] == 'S':\n",
    "        dir_vec[1] -= dir[1]\n",
    "    elif dir[0] == 'E':\n",
    "        dir_vec[0] += dir[1]\n",
    "    elif dir[0] == 'W':\n",
    "        dir_vec[0] -= dir[1]\n",
    "    elif dir[0] == 'L' or dir[0] == 'R': # rotate waypoint around ship by 90\n",
    "        turn_by = dir[1] // 90\n",
    "        if dir[0] == 'R':\n",
    "            turn_by = 4 - turn_by        \n",
    "        for i in range(turn_by):\n",
    "            dir_vec[0], dir_vec[1] = -1 * dir_vec[1], dir_vec[0]\n",
    "\n",
    "    elif dir[0] == 'F':\n",
    "        my_pos[0] += dir_vec[0]*dir[1]\n",
    "        my_pos[1] += dir_vec[1]*dir[1]\n",
    "#         print(f'pos: {my_pos}')\n",
    "#     print(f'dir vec: {dir_vec}')\n",
    "\n",
    "print(f'x: {my_pos[0]}, y: {my_pos[1]}, x+y: {abs(my_pos[0]) + abs(my_pos[1])}')\n",
    "\n",
    "#low: 46596\n",
    "#ans: 89936"
   ]
  },
  {
   "cell_type": "code",
   "execution_count": null,
   "metadata": {},
   "outputs": [],
   "source": []
  }
 ],
 "metadata": {
  "kernelspec": {
   "display_name": "Python 3",
   "language": "python",
   "name": "python3"
  },
  "language_info": {
   "codemirror_mode": {
    "name": "ipython",
    "version": 3
   },
   "file_extension": ".py",
   "mimetype": "text/x-python",
   "name": "python",
   "nbconvert_exporter": "python",
   "pygments_lexer": "ipython3",
   "version": "3.8.3"
  }
 },
 "nbformat": 4,
 "nbformat_minor": 4
}
